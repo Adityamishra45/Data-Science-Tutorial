{
 "cells": [
  {
   "cell_type": "markdown",
   "metadata": {},
   "source": [
    "# Dictionary and Tuples"
   ]
  },
  {
   "cell_type": "code",
   "execution_count": 2,
   "metadata": {},
   "outputs": [],
   "source": [
    "# Dictionary allow us to store the key value pairs"
   ]
  },
  {
   "cell_type": "code",
   "execution_count": 3,
   "metadata": {},
   "outputs": [
    {
     "data": {
      "text/plain": [
       "{'Aditya': 8603735895, 'Adarsh': 7232936171, 'Babu': 91204091200}"
      ]
     },
     "execution_count": 3,
     "metadata": {},
     "output_type": "execute_result"
    }
   ],
   "source": [
    "d = {\"Aditya\":8603735895,\"Adarsh\":7232936171,\"Babu\":91204091200}\n",
    "d"
   ]
  },
  {
   "cell_type": "code",
   "execution_count": 4,
   "metadata": {},
   "outputs": [
    {
     "data": {
      "text/plain": [
       "8603735895"
      ]
     },
     "execution_count": 4,
     "metadata": {},
     "output_type": "execute_result"
    }
   ],
   "source": [
    "d[\"Aditya\"] # Names are stored as key and the numbers are stored as values"
   ]
  },
  {
   "cell_type": "code",
   "execution_count": 5,
   "metadata": {},
   "outputs": [
    {
     "name": "stdout",
     "output_type": "stream",
     "text": [
      "{'Aditya': 8603735895, 'Adarsh': 7232936171, 'Babu': 91204091200, 'Yadav': 65944112118}\n"
     ]
    }
   ],
   "source": [
    "# Adding the more elements in the dictionary\n",
    "d[\"Yadav\"]=65944112118\n",
    "print(d)"
   ]
  },
  {
   "cell_type": "code",
   "execution_count": 6,
   "metadata": {},
   "outputs": [
    {
     "data": {
      "text/plain": [
       "{'Aditya': 8603735895, 'Adarsh': 7232936171, 'Babu': 91204091200}"
      ]
     },
     "execution_count": 6,
     "metadata": {},
     "output_type": "execute_result"
    }
   ],
   "source": [
    "# Deleteing the element from the dictionary\n",
    "del d[\"Yadav\"]\n",
    "d "
   ]
  },
  {
   "cell_type": "code",
   "execution_count": 7,
   "metadata": {},
   "outputs": [
    {
     "name": "stdout",
     "output_type": "stream",
     "text": [
      "key:  Aditya , Value:  8603735895\n",
      "key:  Adarsh , Value:  7232936171\n",
      "key:  Babu , Value:  91204091200\n",
      "key:  Aditya , Value:  8603735895\n",
      "key:  Adarsh , Value:  7232936171\n",
      "key:  Babu , Value:  91204091200\n"
     ]
    }
   ],
   "source": [
    "# Iterating over the dictionary\n",
    "for key in d:\n",
    "    print(\"key: \",key,\", Value: \",d[key])\n",
    "\n",
    "''' These are the two methods of doing the same thing'''\n",
    "\n",
    "for key,value in d.items():\n",
    "    print(\"key: \",key,\", Value: \",value)\n"
   ]
  },
  {
   "cell_type": "code",
   "execution_count": 8,
   "metadata": {},
   "outputs": [
    {
     "data": {
      "text/plain": [
       "True"
      ]
     },
     "execution_count": 8,
     "metadata": {},
     "output_type": "execute_result"
    }
   ],
   "source": [
    "\"Aditya Mishra\" in d\n",
    "\"Aditya\" in d "
   ]
  },
  {
   "cell_type": "code",
   "execution_count": 9,
   "metadata": {},
   "outputs": [
    {
     "data": {
      "text/plain": [
       "{}"
      ]
     },
     "execution_count": 9,
     "metadata": {},
     "output_type": "execute_result"
    }
   ],
   "source": [
    "d.clear()\n",
    "d "
   ]
  },
  {
   "cell_type": "markdown",
   "metadata": {},
   "source": [
    "# Tuples\n"
   ]
  },
  {
   "cell_type": "code",
   "execution_count": 10,
   "metadata": {},
   "outputs": [
    {
     "data": {
      "text/plain": [
       "5"
      ]
     },
     "execution_count": 10,
     "metadata": {},
     "output_type": "execute_result"
    }
   ],
   "source": [
    "'''Tuples are nothing but list of values grouped together'''\n",
    "point = (5,9)\n",
    "point[0]"
   ]
  },
  {
   "cell_type": "code",
   "execution_count": 11,
   "metadata": {},
   "outputs": [
    {
     "ename": "TypeError",
     "evalue": "'tuple' object does not support item assignment",
     "output_type": "error",
     "traceback": [
      "\u001b[1;31m---------------------------------------------------------------------------\u001b[0m",
      "\u001b[1;31mTypeError\u001b[0m                                 Traceback (most recent call last)",
      "Cell \u001b[1;32mIn[11], line 4\u001b[0m\n\u001b[0;32m      1\u001b[0m \u001b[38;5;124;03m''' The main difference between lists and tuple is that list have all the values similar meaning and tuples have all the value have different meanings'''\u001b[39;00m\n\u001b[0;32m      2\u001b[0m  \u001b[38;5;66;03m# Tuples are immutable\u001b[39;00m\n\u001b[1;32m----> 4\u001b[0m \u001b[43mpoint\u001b[49m\u001b[43m[\u001b[49m\u001b[38;5;241;43m0\u001b[39;49m\u001b[43m]\u001b[49m\u001b[38;5;241m=\u001b[39m\u001b[38;5;241m10\u001b[39m\n\u001b[0;32m      5\u001b[0m \u001b[38;5;28mprint\u001b[39m(point) \u001b[38;5;66;03m# will give a error\u001b[39;00m\n",
      "\u001b[1;31mTypeError\u001b[0m: 'tuple' object does not support item assignment"
     ]
    }
   ],
   "source": [
    "''' The main difference between lists and tuple is that list have all the values similar meaning and tuples have all the value have different meanings'''\n",
    " # Tuples are immutable\n",
    "\n",
    "point[0]=10\n",
    "print(point) # will give a error"
   ]
  }
 ],
 "metadata": {
  "kernelspec": {
   "display_name": "Python 3",
   "language": "python",
   "name": "python3"
  },
  "language_info": {
   "codemirror_mode": {
    "name": "ipython",
    "version": 3
   },
   "file_extension": ".py",
   "mimetype": "text/x-python",
   "name": "python",
   "nbconvert_exporter": "python",
   "pygments_lexer": "ipython3",
   "version": "3.9.7"
  }
 },
 "nbformat": 4,
 "nbformat_minor": 2
}
