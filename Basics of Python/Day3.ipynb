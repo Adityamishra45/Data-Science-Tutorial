{
 "cells": [
  {
   "cell_type": "markdown",
   "metadata": {},
   "source": [
    "# For Loop\n"
   ]
  },
  {
   "cell_type": "code",
   "execution_count": 4,
   "metadata": {},
   "outputs": [
    {
     "name": "stdout",
     "output_type": "stream",
     "text": [
      "7500\n"
     ]
    }
   ],
   "source": [
    "expenses = [900,1200,1500,1800,2100]\n",
    "total=0\n",
    "for expense in expenses:\n",
    "    total= total+expense\n",
    "print(total)"
   ]
  },
  {
   "cell_type": "code",
   "execution_count": 6,
   "metadata": {},
   "outputs": [
    {
     "name": "stdout",
     "output_type": "stream",
     "text": [
      "5\n",
      "6\n",
      "7\n",
      "8\n",
      "9\n"
     ]
    }
   ],
   "source": [
    "for i in range(5,10):\n",
    "    print(i)"
   ]
  },
  {
   "cell_type": "code",
   "execution_count": 10,
   "metadata": {},
   "outputs": [
    {
     "name": "stdout",
     "output_type": "stream",
     "text": [
      "Month 1 Expense :  900\n",
      "Month 2 Expense :  1200\n",
      "Month 3 Expense :  1500\n",
      "Month 4 Expense :  1800\n",
      "Month 5 Expense :  2100\n",
      "Total :  7500\n"
     ]
    }
   ],
   "source": [
    "expenses = [900,1200,1500,1800,2100]\n",
    "total=0\n",
    "for i in range(len(expenses)):\n",
    "    expense = expenses[i]\n",
    "    print(\"Month\",i+1,\"Expense : \", expenses[i])\n",
    "    total += expense\n",
    "print(\"Total : \",total)"
   ]
  },
  {
   "cell_type": "code",
   "execution_count": 15,
   "metadata": {},
   "outputs": [
    {
     "name": "stdout",
     "output_type": "stream",
     "text": [
      "Key location found at Lahore\n"
     ]
    }
   ],
   "source": [
    "pakistani = ['Karachi', 'Lahore', 'Islamabad']\n",
    "key_location = \"Lahore\"\n",
    "found = False\n",
    "\n",
    "for i in pakistani:\n",
    "    if i == key_location:\n",
    "        print(\"Key location found at\", i)\n",
    "        found = True\n",
    "        break\n",
    "\n",
    "if not found:\n",
    "    print(\"Key location not found\")\n"
   ]
  },
  {
   "cell_type": "code",
   "execution_count": 16,
   "metadata": {},
   "outputs": [
    {
     "name": "stdout",
     "output_type": "stream",
     "text": [
      "1\n",
      "3\n",
      "5\n",
      "7\n",
      "9\n"
     ]
    }
   ],
   "source": [
    "for i in range(11):\n",
    "    if i%2!=0:\n",
    "        print(i) \n"
   ]
  },
  {
   "cell_type": "code",
   "execution_count": null,
   "metadata": {},
   "outputs": [],
   "source": []
  }
 ],
 "metadata": {
  "kernelspec": {
   "display_name": "Python 3",
   "language": "python",
   "name": "python3"
  },
  "language_info": {
   "codemirror_mode": {
    "name": "ipython",
    "version": 3
   },
   "file_extension": ".py",
   "mimetype": "text/x-python",
   "name": "python",
   "nbconvert_exporter": "python",
   "pygments_lexer": "ipython3",
   "version": "3.9.7"
  }
 },
 "nbformat": 4,
 "nbformat_minor": 2
}
