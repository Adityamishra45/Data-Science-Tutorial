{
 "cells": [
  {
   "cell_type": "markdown",
   "metadata": {},
   "source": [
    "# Conditional Statements"
   ]
  },
  {
   "cell_type": "code",
   "execution_count": 1,
   "metadata": {},
   "outputs": [
    {
     "name": "stdout",
     "output_type": "stream",
     "text": [
      "Number is even\n"
     ]
    }
   ],
   "source": [
    "n = input(\"Enter the number : \")\n",
    "n = int(n)\n",
    "if n%2==0:\n",
    "    print(\"Number is even\")\n",
    "else:\n",
    "    print(\"Number is odd\")"
   ]
  },
  {
   "cell_type": "code",
   "execution_count": 2,
   "metadata": {},
   "outputs": [
    {
     "data": {
      "text/plain": [
       "True"
      ]
     },
     "execution_count": 2,
     "metadata": {},
     "output_type": "execute_result"
    }
   ],
   "source": [
    "4==4"
   ]
  },
  {
   "cell_type": "code",
   "execution_count": 5,
   "metadata": {},
   "outputs": [
    {
     "name": "stdout",
     "output_type": "stream",
     "text": [
      "Dish is not there.\n"
     ]
    }
   ],
   "source": [
    "indian = ['samosa','kachori','laddoo']\n",
    "pakistani = ['korma','nihari','karahi']\n",
    "bangladesh = ['pnata bhat','chorchori','fuchka']\n",
    "\n",
    "dish = input(\"Enter the dish name : \")\n",
    "if dish in india:\n",
    "    print(f\"{dish} is indian.\")\n",
    "elif dish in pakistani:\n",
    "    print(f\"{dish} is pakistani.\")\n",
    "elif dish in bangladesh:\n",
    "    print(f\"{dish} is bangladesh.\")\n",
    "else:\n",
    "    print(\"Dish is not there.\")"
   ]
  },
  {
   "cell_type": "markdown",
   "metadata": {},
   "source": [
    "Ternary Operaters "
   ]
  },
  {
   "cell_type": "code",
   "execution_count": 8,
   "metadata": {},
   "outputs": [
    {
     "name": "stdout",
     "output_type": "stream",
     "text": [
      "Number is odd\n"
     ]
    }
   ],
   "source": [
    "n = int(input(\"Enter the number : \"))\n",
    "message = \"Number is even\" if n%2==0 else \"Number is odd\"\n",
    "print(message)"
   ]
  },
  {
   "cell_type": "markdown",
   "metadata": {},
   "source": [
    "# Exercise"
   ]
  },
  {
   "cell_type": "code",
   "execution_count": null,
   "metadata": {},
   "outputs": [],
   "source": [
    "'''Using following list of cities per country,\n",
    "india = [\"mumbai\", \"banglore\", \"chennai\", \"delhi\"]\n",
    "pakistan = [\"lahore\",\"karachi\",\"islamabad\"]\n",
    "bangladesh = [\"dhaka\", \"khulna\", \"rangpur\"]\n",
    "Write a program that asks user to enter a city name and it should tell which country the city belongs to\n",
    "Write a program that asks user to enter two cities and it tells you if they both are in same country or not. For example if I enter mumbai and chennai, it will print \"Both cities are in India\" but if I enter mumbai and dhaka it should print \"They don't belong to same country\"'''"
   ]
  },
  {
   "cell_type": "code",
   "execution_count": 2,
   "metadata": {},
   "outputs": [
    {
     "name": "stdout",
     "output_type": "stream",
     "text": [
      "Pakistan\n",
      "India\n"
     ]
    }
   ],
   "source": [
    "indian = ['Delhi','Mumbai','Bangalore']\n",
    "pakistani = ['Karachi','Lahore','Islamabad']\n",
    "bangladesh = ['Dhaka','Mirpur','chattogram']\n",
    "n = input(\"Enter the city : \")\n",
    "if n in indian:\n",
    "    print(\"India\")\n",
    "elif n in pakistani:\n",
    "    print(\"Pakistan\")\n",
    "else:\n",
    "    print(\"Bangladesh\")\n",
    "M = input(\"Enter city no 1 : \")\n",
    "O = input(\"Enter city number 2: \")\n",
    "if M and O in indian:\n",
    "    print(\"India\")\n",
    "elif M and O in pakistani:\n",
    "    print(\"Pakistan\")\n",
    "elif M and O in bangladesh:\n",
    "    print(\"Bangladesh\")\n",
    "else:\n",
    "    print(\"Not in the same country.\")\n",
    "\n",
    "\n"
   ]
  },
  {
   "cell_type": "code",
   "execution_count": null,
   "metadata": {},
   "outputs": [],
   "source": []
  }
 ],
 "metadata": {
  "kernelspec": {
   "display_name": "Python 3",
   "language": "python",
   "name": "python3"
  },
  "language_info": {
   "codemirror_mode": {
    "name": "ipython",
    "version": 3
   },
   "file_extension": ".py",
   "mimetype": "text/x-python",
   "name": "python",
   "nbconvert_exporter": "python",
   "pygments_lexer": "ipython3",
   "version": "3.9.7"
  }
 },
 "nbformat": 4,
 "nbformat_minor": 2
}
