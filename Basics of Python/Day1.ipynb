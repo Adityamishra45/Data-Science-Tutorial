{
 "cells": [
  {
   "cell_type": "markdown",
   "metadata": {},
   "source": [
    "# Lists"
   ]
  },
  {
   "cell_type": "code",
   "execution_count": 103,
   "metadata": {},
   "outputs": [
    {
     "data": {
      "text/plain": [
       "list"
      ]
     },
     "execution_count": 103,
     "metadata": {},
     "output_type": "execute_result"
    }
   ],
   "source": [
    "mithai = ['halwa','Kheer','Jalebi']\n",
    "type(mithai)"
   ]
  },
  {
   "cell_type": "code",
   "execution_count": 104,
   "metadata": {},
   "outputs": [
    {
     "data": {
      "text/plain": [
       "'halwa'"
      ]
     },
     "execution_count": 104,
     "metadata": {},
     "output_type": "execute_result"
    }
   ],
   "source": [
    "mithai[0]"
   ]
  },
  {
   "cell_type": "code",
   "execution_count": 105,
   "metadata": {},
   "outputs": [
    {
     "data": {
      "text/plain": [
       "'Kheer'"
      ]
     },
     "execution_count": 105,
     "metadata": {},
     "output_type": "execute_result"
    }
   ],
   "source": [
    "mithai[1]"
   ]
  },
  {
   "cell_type": "code",
   "execution_count": 106,
   "metadata": {},
   "outputs": [
    {
     "data": {
      "text/plain": [
       "'Jalebi'"
      ]
     },
     "execution_count": 106,
     "metadata": {},
     "output_type": "execute_result"
    }
   ],
   "source": [
    "mithai[-1]"
   ]
  },
  {
   "cell_type": "code",
   "execution_count": 107,
   "metadata": {},
   "outputs": [
    {
     "data": {
      "text/plain": [
       "['Kheer', 'Jalebi']"
      ]
     },
     "execution_count": 107,
     "metadata": {},
     "output_type": "execute_result"
    }
   ],
   "source": [
    "mithai[1:3]  #we need to give 1 extra for the final range otherwise it will not include the last element"
   ]
  },
  {
   "cell_type": "code",
   "execution_count": 108,
   "metadata": {},
   "outputs": [
    {
     "data": {
      "text/plain": [
       "3"
      ]
     },
     "execution_count": 108,
     "metadata": {},
     "output_type": "execute_result"
    }
   ],
   "source": [
    "len(mithai)"
   ]
  },
  {
   "cell_type": "code",
   "execution_count": 109,
   "metadata": {},
   "outputs": [
    {
     "data": {
      "text/plain": [
       "False"
      ]
     },
     "execution_count": 109,
     "metadata": {},
     "output_type": "execute_result"
    }
   ],
   "source": [
    "'samosa' in mithai"
   ]
  },
  {
   "cell_type": "code",
   "execution_count": 110,
   "metadata": {},
   "outputs": [
    {
     "data": {
      "text/plain": [
       "True"
      ]
     },
     "execution_count": 110,
     "metadata": {},
     "output_type": "execute_result"
    }
   ],
   "source": [
    "'samosa' not in mithai"
   ]
  },
  {
   "cell_type": "code",
   "execution_count": 111,
   "metadata": {},
   "outputs": [
    {
     "name": "stdout",
     "output_type": "stream",
     "text": [
      "['halwa', 'Kheer', 'peda', 'Jalebi', 'laddoo']\n"
     ]
    }
   ],
   "source": [
    "mithai.append('laddoo')  # append will add the item at the end of the list\n",
    "mithai.insert(2,'peda') # insert will add the item at the perticular index\n",
    "print(mithai)"
   ]
  },
  {
   "cell_type": "code",
   "execution_count": 112,
   "metadata": {},
   "outputs": [
    {
     "name": "stdout",
     "output_type": "stream",
     "text": [
      "['samosa', 'momo', 'spring-roll', 'gol-gappa', 'chat']\n"
     ]
    }
   ],
   "source": [
    "namkeen = ['samosa','momo','spring-roll','gol-gappa','chat']\n",
    "print(namkeen)"
   ]
  },
  {
   "cell_type": "markdown",
   "metadata": {},
   "source": [
    "Concatination"
   ]
  },
  {
   "cell_type": "code",
   "execution_count": 113,
   "metadata": {},
   "outputs": [
    {
     "name": "stdout",
     "output_type": "stream",
     "text": [
      "['halwa', 'Kheer', 'peda', 'Jalebi', 'laddoo', 'samosa', 'momo', 'spring-roll', 'gol-gappa', 'chat']\n"
     ]
    }
   ],
   "source": [
    "food = mithai+namkeen\n",
    "print(food)"
   ]
  },
  {
   "cell_type": "code",
   "execution_count": 114,
   "metadata": {},
   "outputs": [
    {
     "name": "stdout",
     "output_type": "stream",
     "text": [
      "['halwa', 'Kheer', 'peda', 'Jalebi', 'laddoo', 'samosa', 'momo', 'spring-roll', 'gol-gappa', 'chat', 'Kachori']\n"
     ]
    }
   ],
   "source": [
    "food.append('Kachori')\n",
    "print(food)"
   ]
  },
  {
   "cell_type": "code",
   "execution_count": 115,
   "metadata": {},
   "outputs": [
    {
     "name": "stdout",
     "output_type": "stream",
     "text": [
      "Original List -  ['halwa', 'Kheer', 'peda', 'Jalebi', 'laddoo', 'samosa', 'momo', 'spring-roll', 'gol-gappa', 'chat', 'Kachori']\n",
      "Updated List -  ['halwa', 'Rasmalai', 'peda', 'Jalebi', 'laddoo', 'samosa', 'momo', 'spring-roll', 'gol-gappa', 'chat', 'Kachori']\n"
     ]
    }
   ],
   "source": [
    "# Replacing the value of the perticular index\n",
    "print(\"Original List - \",food)\n",
    "food[1]='Rasmalai'\n",
    "print(\"Updated List - \",food)"
   ]
  },
  {
   "cell_type": "code",
   "execution_count": 116,
   "metadata": {},
   "outputs": [
    {
     "name": "stdout",
     "output_type": "stream",
     "text": [
      "['halwa', 'P', 'u', 'r', 'i', 'Jalebi', 'laddoo', 'samosa', 'momo', 'spring-roll', 'gol-gappa', 'chat', 'Kachori']\n"
     ]
    }
   ],
   "source": [
    "food[1:3] = 'Puri'\n",
    "print(food) # Now it will print all the character as a different word"
   ]
  },
  {
   "cell_type": "code",
   "execution_count": 117,
   "metadata": {},
   "outputs": [
    {
     "name": "stdout",
     "output_type": "stream",
     "text": [
      "['halwa', 'Puri', 'Jalebi', 'laddoo', 'samosa', 'momo', 'spring-roll', 'gol-gappa', 'chat', 'Kachori']\n"
     ]
    }
   ],
   "source": [
    "food[1:5]=['Puri']  # Now replacing the different characters as a perticular word.\n",
    "print(food)"
   ]
  },
  {
   "cell_type": "code",
   "execution_count": 118,
   "metadata": {},
   "outputs": [
    {
     "name": "stdout",
     "output_type": "stream",
     "text": [
      "['halwa', 5, 6, 7, 8, 'laddoo', 'samosa', 'momo', 'spring-roll', 'gol-gappa', 'chat', 'Kachori']\n"
     ]
    }
   ],
   "source": [
    "# Replacing with numbers because list can contain different datatypes.\n",
    "\n",
    "food[1:3] = [5,6,7,8]\n",
    "print(food)"
   ]
  },
  {
   "cell_type": "code",
   "execution_count": 119,
   "metadata": {},
   "outputs": [
    {
     "data": {
      "text/plain": [
       "6"
      ]
     },
     "execution_count": 119,
     "metadata": {},
     "output_type": "execute_result"
    }
   ],
   "source": [
    "food.index('samosa')"
   ]
  },
  {
   "cell_type": "code",
   "execution_count": 120,
   "metadata": {},
   "outputs": [
    {
     "name": "stdout",
     "output_type": "stream",
     "text": [
      "['Kachori', 'chat', 'gol-gappa', 'spring-roll', 'momo', 'samosa', 'laddoo', 8, 7, 6, 5, 'halwa']\n"
     ]
    }
   ],
   "source": [
    "food.reverse()\n",
    "print(food)"
   ]
  },
  {
   "cell_type": "markdown",
   "metadata": {},
   "source": [
    "# Exercise"
   ]
  },
  {
   "cell_type": "code",
   "execution_count": 121,
   "metadata": {},
   "outputs": [
    {
     "data": {
      "text/plain": [
       "'Let us say your expense for every month are listed below,\\nJanuary - 2200\\nFebruary - 2350\\nMarch - 2600\\nApril - 2130\\nMay - 2190\\n\\nCreate a list to store these monthly expenses and using that find out,\\n1. In Feb, how many dollars you spent extra compare to January?\\n2. Find out your total expense in first quarter (first three months) of the year.\\n3. Find out if you spent exactly 2000 dollars in any month\\n4. June month just finished and your expense is 1980 dollar. Add this item to our monthly expense list\\n5. You returned an item that you bought in a month of April and\\ngot a refund of 200$. Make a correction to your monthly expense list\\nbased on this'"
      ]
     },
     "execution_count": 121,
     "metadata": {},
     "output_type": "execute_result"
    }
   ],
   "source": [
    "'''Let us say your expense for every month are listed below,\n",
    "January - 2200\n",
    "February - 2350\n",
    "March - 2600\n",
    "April - 2130\n",
    "May - 2190\n",
    "\n",
    "Create a list to store these monthly expenses and using that find out,\n",
    "1. In Feb, how many dollars you spent extra compare to January?\n",
    "2. Find out your total expense in first quarter (first three months) of the year.\n",
    "3. Find out if you spent exactly 2000 dollars in any month\n",
    "4. June month just finished and your expense is 1980 dollar. Add this item to our monthly expense list\n",
    "5. You returned an item that you bought in a month of April and\n",
    "got a refund of 200$. Make a correction to your monthly expense list\n",
    "based on this'''"
   ]
  },
  {
   "cell_type": "code",
   "execution_count": 122,
   "metadata": {},
   "outputs": [
    {
     "name": "stdout",
     "output_type": "stream",
     "text": [
      "150\n"
     ]
    }
   ],
   "source": [
    "monthlyExpense = [2200,2350,2600,2130,2190]\n",
    "jan = monthlyExpense[0]\n",
    "feb = monthlyExpense[1]\n",
    "print(feb-jan)"
   ]
  },
  {
   "cell_type": "code",
   "execution_count": 123,
   "metadata": {},
   "outputs": [
    {
     "name": "stdout",
     "output_type": "stream",
     "text": [
      "7150\n"
     ]
    }
   ],
   "source": [
    "print(monthlyExpense[0]+monthlyExpense[1]+monthlyExpense[2])"
   ]
  },
  {
   "cell_type": "code",
   "execution_count": 124,
   "metadata": {},
   "outputs": [
    {
     "data": {
      "text/plain": [
       "False"
      ]
     },
     "execution_count": 124,
     "metadata": {},
     "output_type": "execute_result"
    }
   ],
   "source": [
    "2000 in monthlyExpense"
   ]
  },
  {
   "cell_type": "code",
   "execution_count": 125,
   "metadata": {},
   "outputs": [
    {
     "name": "stdout",
     "output_type": "stream",
     "text": [
      "[2200, 2350, 2600, 2130, 2190, 1980]\n"
     ]
    }
   ],
   "source": [
    "monthlyExpense.append(1980)\n",
    "print(monthlyExpense)"
   ]
  },
  {
   "cell_type": "code",
   "execution_count": 126,
   "metadata": {},
   "outputs": [
    {
     "name": "stdout",
     "output_type": "stream",
     "text": [
      "[2200, 2350, 2600, 1930, 2190, 1980]\n"
     ]
    }
   ],
   "source": [
    "monthlyExpense[3]=monthlyExpense[3]-200\n",
    "print(monthlyExpense)"
   ]
  },
  {
   "cell_type": "code",
   "execution_count": 127,
   "metadata": {},
   "outputs": [
    {
     "data": {
      "text/plain": [
       "\"You have a list of your favourite marvel super heros.\\nheros=['spider man','thor','hulk','iron man','captain america']\\nUsing this find out,\\n\\n1. Length of the list\\n2. Add 'black panther' at the end of this list\\n3. You realize that you need to add 'black panther' after 'hulk',\\n   so remove it from the list first and then add it after 'hulk'\\n4. Now you don't like thor and hulk because they get angry easily :)\\n   So you want to remove thor and hulk from list and replace them with doctor strange (because he is cool).\\n   Do that with one line of code.\\n5. Sort the heros list in alphabetical order (Hint. Use dir() functions to list down all functions available in list)\""
      ]
     },
     "execution_count": 127,
     "metadata": {},
     "output_type": "execute_result"
    }
   ],
   "source": [
    "'''You have a list of your favourite marvel super heros.\n",
    "heros=['spider man','thor','hulk','iron man','captain america']\n",
    "Using this find out,\n",
    "\n",
    "1. Length of the list\n",
    "2. Add 'black panther' at the end of this list\n",
    "3. You realize that you need to add 'black panther' after 'hulk',\n",
    "   so remove it from the list first and then add it after 'hulk'\n",
    "4. Now you don't like thor and hulk because they get angry easily :)\n",
    "   So you want to remove thor and hulk from list and replace them with doctor strange (because he is cool).\n",
    "   Do that with one line of code.\n",
    "5. Sort the heros list in alphabetical order (Hint. Use dir() functions to list down all functions available in list)'''"
   ]
  },
  {
   "cell_type": "code",
   "execution_count": 128,
   "metadata": {},
   "outputs": [
    {
     "data": {
      "text/plain": [
       "5"
      ]
     },
     "execution_count": 128,
     "metadata": {},
     "output_type": "execute_result"
    }
   ],
   "source": [
    "heros=['spider man','thor','hulk','iron man','captain america']\n",
    "len(heros)"
   ]
  },
  {
   "cell_type": "code",
   "execution_count": 129,
   "metadata": {},
   "outputs": [
    {
     "name": "stdout",
     "output_type": "stream",
     "text": [
      "['spider man', 'thor', 'hulk', 'iron man', 'captain america', 'black panther']\n"
     ]
    }
   ],
   "source": [
    "heros.append('black panther')\n",
    "print(heros)"
   ]
  },
  {
   "cell_type": "code",
   "execution_count": 130,
   "metadata": {},
   "outputs": [
    {
     "name": "stdout",
     "output_type": "stream",
     "text": [
      "['spider man', 'thor', 'hulk', 'black panther', 'iron man', 'captain america']\n"
     ]
    }
   ],
   "source": [
    "heros.remove('black panther')\n",
    "heros.insert(3,'black panther')\n",
    "print(heros)"
   ]
  },
  {
   "cell_type": "code",
   "execution_count": 131,
   "metadata": {},
   "outputs": [
    {
     "name": "stdout",
     "output_type": "stream",
     "text": [
      "['spider man', 'doctor s', 'black panther', 'iron man', 'captain america']\n"
     ]
    }
   ],
   "source": [
    "heros[1:3]=['doctor s']\n",
    "print(heros)"
   ]
  },
  {
   "cell_type": "code",
   "execution_count": 132,
   "metadata": {},
   "outputs": [
    {
     "data": {
      "text/plain": [
       "['black panther', 'captain america', 'doctor s', 'iron man', 'spider man']"
      ]
     },
     "execution_count": 132,
     "metadata": {},
     "output_type": "execute_result"
    }
   ],
   "source": [
    "heros.sort()\n",
    "heros"
   ]
  }
 ],
 "metadata": {
  "kernelspec": {
   "display_name": "Python 3",
   "language": "python",
   "name": "python3"
  },
  "language_info": {
   "codemirror_mode": {
    "name": "ipython",
    "version": 3
   },
   "file_extension": ".py",
   "mimetype": "text/x-python",
   "name": "python",
   "nbconvert_exporter": "python",
   "pygments_lexer": "ipython3",
   "version": "3.9.7"
  }
 },
 "nbformat": 4,
 "nbformat_minor": 2
}
