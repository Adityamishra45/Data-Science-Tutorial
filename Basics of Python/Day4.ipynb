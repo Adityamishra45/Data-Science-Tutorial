{
 "cells": [
  {
   "cell_type": "markdown",
   "metadata": {},
   "source": [
    "# Functions"
   ]
  },
  {
   "cell_type": "code",
   "execution_count": null,
   "metadata": {},
   "outputs": [],
   "source": [
    "# Functions are \"self contained\" modules of code that accomplish a specific task"
   ]
  },
  {
   "cell_type": "code",
   "execution_count": 7,
   "metadata": {},
   "outputs": [
    {
     "name": "stdout",
     "output_type": "stream",
     "text": [
      "6211\n",
      "14019\n"
     ]
    }
   ],
   "source": [
    "tom = [5122,879,151,5,54]\n",
    "joe = [5001,8552,145,321]\n",
    "\n",
    "# total1 = 0\n",
    "# total2 = 0\n",
    "# for item in tom:\n",
    "#     total1+=item\n",
    "# print(\"Tom's expense : \",total1)\n",
    "# for item in joe:\n",
    "#     total2+=item\n",
    "# print(\"Joe's expense : \",total2)\n",
    "\n",
    "def calculate_total(exp):\n",
    "    total=0\n",
    "    for item in exp:\n",
    "        total+=item\n",
    "    return total\n",
    "\n",
    "toms_total = calculate_total(tom)\n",
    "joes_total = calculate_total(joe)\n",
    "print(toms_total)\n",
    "print(joes_total)"
   ]
  },
  {
   "cell_type": "code",
   "execution_count": 8,
   "metadata": {},
   "outputs": [
    {
     "name": "stdout",
     "output_type": "stream",
     "text": [
      "11\n"
     ]
    }
   ],
   "source": [
    "def sum(a,b):\n",
    "    total=a+b\n",
    "    return total\n",
    "\n",
    "print(sum(5,6))"
   ]
  },
  {
   "cell_type": "code",
   "execution_count": 18,
   "metadata": {},
   "outputs": [
    {
     "name": "stdout",
     "output_type": "stream",
     "text": [
      "17\n",
      "0\n"
     ]
    }
   ],
   "source": [
    "# Global vs local variables --------------------------------\n",
    "'''Local variables are defined inside a function or block, whereas global variable is defined outside of all functions or blocks.'''\n",
    "\n",
    "total=0 # Global variable\n",
    "def calculate_total(a,b):\n",
    "    total = a+b  #Local variable \n",
    "    print(total)\n",
    "    return total\n",
    "n=calculate_total(8,9)\n",
    "print(total)"
   ]
  },
  {
   "cell_type": "code",
   "execution_count": 21,
   "metadata": {},
   "outputs": [
    {
     "name": "stdout",
     "output_type": "stream",
     "text": [
      "18\n",
      "0\n"
     ]
    }
   ],
   "source": [
    "# Default Arguments\n",
    "total=0 # Global variable\n",
    "def calculate_total(a,b=0):  # if the user is not passing the value for the b then it will take it as 0 as default arguments\n",
    "    '''This function takes 2 arguments and calculates the total and return it'''\n",
    "    total = a+b  #Local variable \n",
    "    print(total)\n",
    "    return total\n",
    "n=calculate_total(8,10)\n",
    "print(total)"
   ]
  },
  {
   "cell_type": "code",
   "execution_count": null,
   "metadata": {},
   "outputs": [],
   "source": [
    "# Documantation Strings\n",
    "\"\"\"We use double columns for the notes purpose\"\"\""
   ]
  },
  {
   "cell_type": "code",
   "execution_count": null,
   "metadata": {},
   "outputs": [],
   "source": []
  },
  {
   "cell_type": "code",
   "execution_count": null,
   "metadata": {},
   "outputs": [],
   "source": []
  },
  {
   "cell_type": "code",
   "execution_count": null,
   "metadata": {},
   "outputs": [],
   "source": []
  },
  {
   "cell_type": "code",
   "execution_count": null,
   "metadata": {},
   "outputs": [],
   "source": []
  },
  {
   "cell_type": "code",
   "execution_count": null,
   "metadata": {},
   "outputs": [],
   "source": []
  }
 ],
 "metadata": {
  "kernelspec": {
   "display_name": "Python 3",
   "language": "python",
   "name": "python3"
  },
  "language_info": {
   "codemirror_mode": {
    "name": "ipython",
    "version": 3
   },
   "file_extension": ".py",
   "mimetype": "text/x-python",
   "name": "python",
   "nbconvert_exporter": "python",
   "pygments_lexer": "ipython3",
   "version": "3.9.7"
  }
 },
 "nbformat": 4,
 "nbformat_minor": 2
}
